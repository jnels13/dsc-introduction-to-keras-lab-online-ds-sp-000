{
 "cells": [
  {
   "cell_type": "markdown",
   "metadata": {},
   "source": [
    "# Keras - Lab\n",
    "\n",
    "## Introduction\n",
    "\n",
    "In this lab you'll once again build a neural network, but this time you will be using Keras to do a lot of the heavy lifting.\n",
    "\n",
    "\n",
    "## Objectives\n",
    "\n",
    "You will be able to:\n",
    "\n",
    "- Build a neural network using Keras \n",
    "- Evaluate performance of a neural network using Keras "
   ]
  },
  {
   "cell_type": "markdown",
   "metadata": {},
   "source": [
    "## Required Packages\n",
    "\n",
    "We'll start by importing all of the required packages and classes."
   ]
  },
  {
   "cell_type": "code",
   "execution_count": 1,
   "metadata": {},
   "outputs": [
    {
     "name": "stderr",
     "output_type": "stream",
     "text": [
      "Using TensorFlow backend.\n"
     ]
    }
   ],
   "source": [
    "import matplotlib.pyplot as plt\n",
    "import pandas as pd\n",
    "import numpy as np\n",
    "import random\n",
    "from sklearn.model_selection import train_test_split\n",
    "from keras.utils.np_utils import to_categorical\n",
    "from sklearn import preprocessing\n",
    "from keras.preprocessing.text import Tokenizer\n",
    "from keras import models\n",
    "from keras import layers\n",
    "from keras import optimizers"
   ]
  },
  {
   "cell_type": "markdown",
   "metadata": {},
   "source": [
    "## Load the data\n",
    "\n",
    "In this lab you will be classifying bank complaints available in the `'Bank_complaints.csv'` file. "
   ]
  },
  {
   "cell_type": "code",
   "execution_count": 4,
   "metadata": {},
   "outputs": [
    {
     "name": "stdout",
     "output_type": "stream",
     "text": [
      "<class 'pandas.core.frame.DataFrame'>\n",
      "RangeIndex: 60000 entries, 0 to 59999\n",
      "Data columns (total 2 columns):\n",
      "Product                         60000 non-null object\n",
      "Consumer complaint narrative    60000 non-null object\n",
      "dtypes: object(2)\n",
      "memory usage: 937.6+ KB\n",
      "None\n"
     ]
    },
    {
     "data": {
      "text/html": [
       "<div>\n",
       "<style scoped>\n",
       "    .dataframe tbody tr th:only-of-type {\n",
       "        vertical-align: middle;\n",
       "    }\n",
       "\n",
       "    .dataframe tbody tr th {\n",
       "        vertical-align: top;\n",
       "    }\n",
       "\n",
       "    .dataframe thead th {\n",
       "        text-align: right;\n",
       "    }\n",
       "</style>\n",
       "<table border=\"1\" class=\"dataframe\">\n",
       "  <thead>\n",
       "    <tr style=\"text-align: right;\">\n",
       "      <th></th>\n",
       "      <th>Product</th>\n",
       "      <th>Consumer complaint narrative</th>\n",
       "    </tr>\n",
       "  </thead>\n",
       "  <tbody>\n",
       "    <tr>\n",
       "      <td>0</td>\n",
       "      <td>Student loan</td>\n",
       "      <td>In XX/XX/XXXX I filled out the Fedlaon applica...</td>\n",
       "    </tr>\n",
       "    <tr>\n",
       "      <td>1</td>\n",
       "      <td>Student loan</td>\n",
       "      <td>I am being contacted by a debt collector for p...</td>\n",
       "    </tr>\n",
       "    <tr>\n",
       "      <td>2</td>\n",
       "      <td>Student loan</td>\n",
       "      <td>I cosigned XXXX student loans at SallieMae for...</td>\n",
       "    </tr>\n",
       "    <tr>\n",
       "      <td>3</td>\n",
       "      <td>Student loan</td>\n",
       "      <td>Navient has sytematically and illegally failed...</td>\n",
       "    </tr>\n",
       "    <tr>\n",
       "      <td>4</td>\n",
       "      <td>Student loan</td>\n",
       "      <td>My wife became eligible for XXXX Loan Forgiven...</td>\n",
       "    </tr>\n",
       "  </tbody>\n",
       "</table>\n",
       "</div>"
      ],
      "text/plain": [
       "        Product                       Consumer complaint narrative\n",
       "0  Student loan  In XX/XX/XXXX I filled out the Fedlaon applica...\n",
       "1  Student loan  I am being contacted by a debt collector for p...\n",
       "2  Student loan  I cosigned XXXX student loans at SallieMae for...\n",
       "3  Student loan  Navient has sytematically and illegally failed...\n",
       "4  Student loan  My wife became eligible for XXXX Loan Forgiven..."
      ]
     },
     "execution_count": 4,
     "metadata": {},
     "output_type": "execute_result"
    }
   ],
   "source": [
    "# Import data\n",
    "df = pd.read_csv('Bank_complaints.csv')\n",
    "\n",
    "# Inspect data\n",
    "print(df.info())\n",
    "df.head()"
   ]
  },
  {
   "cell_type": "markdown",
   "metadata": {},
   "source": [
    "As mentioned earlier, your task is to categorize banking complaints into various predefined categories. Preview what these categories are and what percent of the complaints each accounts for. "
   ]
  },
  {
   "cell_type": "code",
   "execution_count": 5,
   "metadata": {},
   "outputs": [
    {
     "data": {
      "text/plain": [
       "array(['Student loan', 'Credit card', 'Bank account or service',\n",
       "       'Consumer Loan', 'Checking or savings account', 'Mortgage',\n",
       "       'Credit reporting'], dtype=object)"
      ]
     },
     "execution_count": 5,
     "metadata": {},
     "output_type": "execute_result"
    }
   ],
   "source": [
    "# Your code here\n",
    "df.Product.unique()"
   ]
  },
  {
   "cell_type": "markdown",
   "metadata": {},
   "source": [
    "## Preprocessing\n",
    "\n",
    "Before we build our neural network, we need to do several preprocessing steps. First, we will create word vector counts (a bag of words type representation) of our complaints text. Next, we will change the category labels to integers. Finally, we will perform our usual train-test split before building and training our neural network using Keras. With that, let's start munging our data! \n",
    "\n",
    "## One-hot encoding of the complaints\n",
    "\n",
    "Our first step again is to transform our textual data into a numerical representation. As we saw in some of our previous lessons on NLP, there are many ways to do this. Here, we'll use the `Tokenizer()` class from the `preprocessing.text` sub-module of the Keras package.   \n",
    "\n",
    "As with our previous work using NLTK, this will transform our text complaints into word vectors. (Note that the method of creating a vector is different from our previous work with NLTK; as you'll see, word order will be preserved as opposed to a bag of words representation). In the below code, we'll only keep the 2,000 most common words and use one-hot encoding. \n",
    "\n"
   ]
  },
  {
   "cell_type": "code",
   "execution_count": 6,
   "metadata": {},
   "outputs": [],
   "source": [
    "# As a quick preliminary, briefly review the docstring for keras.preprocessing.text.Tokenizer\n",
    "Tokenizer?"
   ]
  },
  {
   "cell_type": "code",
   "execution_count": 7,
   "metadata": {},
   "outputs": [
    {
     "name": "stdout",
     "output_type": "stream",
     "text": [
      "sequences type: <class 'list'>\n",
      "one_hot_results type: <class 'numpy.ndarray'>\n",
      "Found 50110 unique tokens.\n",
      "Dimensions of our coded results: (60000, 2000)\n"
     ]
    }
   ],
   "source": [
    "# ⏰ This cell may take about thirty seconds to run\n",
    "\n",
    "# Raw text complaints\n",
    "complaints = df['Consumer complaint narrative'] \n",
    "\n",
    "# Initialize a tokenizer \n",
    "tokenizer = Tokenizer(num_words=2000) \n",
    "\n",
    "# Fit it to the complaints\n",
    "tokenizer.fit_on_texts(complaints) \n",
    "\n",
    "# Generate sequences\n",
    "sequences = tokenizer.texts_to_sequences(complaints) \n",
    "print('sequences type:', type(sequences))\n",
    "\n",
    "# Similar to sequences, but returns a numpy array\n",
    "one_hot_results= tokenizer.texts_to_matrix(complaints, mode='binary') \n",
    "print('one_hot_results type:', type(one_hot_results))\n",
    "\n",
    "# Useful if we wish to decode (more explanation below)\n",
    "word_index = tokenizer.word_index \n",
    "\n",
    "# Tokens are the number of unique words across the corpus\n",
    "print('Found %s unique tokens.' % len(word_index)) \n",
    "\n",
    "# Our coded data\n",
    "print('Dimensions of our coded results:', np.shape(one_hot_results)) "
   ]
  },
  {
   "cell_type": "markdown",
   "metadata": {},
   "source": [
    "## Decoding Word Vectors \n",
    "\n",
    "As a note, you can also decode these vectorized representations of the reviews. The `word_index` variable, defined above, stores the mapping from the label number to the actual word. Somewhat tediously, we can turn this dictionary inside out and map it back to our word vectors, giving us roughly the original complaint back. (As you'll see, the text won't be identical as we limited ourselves to top 2000 words.)\n",
    "\n",
    "## Python Review / Mini Challenge\n",
    "\n",
    "While a bit tangential to our main topic of interest, we need to reverse our current dictionary `word_index` which maps words from our corpus to integers. In decoding our `one_hot_results`, we will need to create a dictionary of these integers to the original words. Below, take the `word_index` dictionary object and change the orientation so that the values are keys and the keys values. In other words, you are transforming something of the form {A:1, B:2, C:3} to {1:A, 2:B, 3:C}. "
   ]
  },
  {
   "cell_type": "code",
   "execution_count": 9,
   "metadata": {},
   "outputs": [],
   "source": [
    "# Your code here\n",
    "reverse_index = dict([[value, key] for key, value in word_index.items()])"
   ]
  },
  {
   "cell_type": "markdown",
   "metadata": {},
   "source": [
    "## Back to Decoding Our Word Vectors..."
   ]
  },
  {
   "cell_type": "code",
   "execution_count": 10,
   "metadata": {},
   "outputs": [
    {
     "name": "stdout",
     "output_type": "stream",
     "text": [
      "Original complaint text:\n",
      "I have already filed several complaints about AES/PHEAA. I was notified by a XXXX XXXX let @ XXXX, who pretended to be from your office, he said he was from CFPB. I found out this morning he is n't from your office, but is actually works at XXXX. \n",
      "\n",
      "This has wasted weeks of my time. They AES/PHEAA confirmed and admitted ( see attached transcript of XXXX, conversation at XXXX ( XXXX ) with XXXX that proves they verified the loans are not mine ) the student loans they had XXXX, and collected on, and reported negate credit reporting in my name are in fact, not mine. \n",
      "They conclued their investigation on XXXX admitting they made a mistake and have my name on soneone elses loans. I these XXXX loans total {$10000.00}, original amount. My XXXX loans I got was total {$3500.00}. We proved by providing AES/PHEAA, this with my original promissary notes I located recently, the XXXX of my college provided AES/PHEAA with their original shoeinf amounts of my XXXX loans which show different dates and amounts, the dates and amounts are not even close to matching these loans they have in my name, The original lender, XXXX XXXX Bank notifying AES/PHEAA, they never issued me a student loan, and original Loan Guarantor, XXXX, notifying AES/PHEAA, they never were guarantor of my loans. \n",
      "\n",
      "XXXX straight forward. But today, this person, XXXX XXXX, told me they know these loans are not mine, and they refuse to remove my name off these XXXX loan 's and correct their mistake, essentially forcing me to pay these loans off, bucause in XXXX they sold the loans to XXXX loans. \n",
      "\n",
      "This is absurd, first protruding to be this office, and then refusing to correct their mistake. \n",
      "\n",
      "Please for the love of XXXX will soneone from your office call me at XXXX, today. I am a XXXX vet and they are knowingly discriminating against me. \n",
      "Pretending to be you.\n",
      "\n",
      "\n",
      "\n",
      "Decoded review from Tokenizer:\n",
      "i have already filed several complaints about aes i was notified by a xxxx xxxx let xxxx who to be from your office he said he was from cfpb i found out this morning he is n't from your office but is actually works at xxxx this has weeks of my time they aes confirmed and admitted see attached of xxxx conversation at xxxx xxxx with xxxx that they verified the loans are not mine the student loans they had xxxx and on and reported credit reporting in my name are in fact not mine they their investigation on xxxx they made a mistake and have my name on loans i these xxxx loans total 10000 00 original amount my xxxx loans i got was total 00 we by providing aes this with my original notes i located recently the xxxx of my college provided aes with their original amounts of my xxxx loans which show different dates and amounts the dates and amounts are not even close to these loans they have in my name the original lender xxxx xxxx bank notifying aes they never issued me a student loan and original loan xxxx notifying aes they never were of my loans xxxx forward but today this person xxxx xxxx told me they know these loans are not mine and they refuse to remove my name off these xxxx loan 's and correct their mistake essentially me to pay these loans off in xxxx they sold the loans to xxxx loans this is first to be this office and then refusing to correct their mistake please for the of xxxx will from your office call me at xxxx today i am a xxxx and they are against me to be you\n"
     ]
    }
   ],
   "source": [
    "comment_idx_to_preview = 19\n",
    "print('Original complaint text:')\n",
    "print(complaints[comment_idx_to_preview])\n",
    "print('\\n\\n')\n",
    "\n",
    "# The reverse_index cell block above must be complete in order for this cell block to successively execute \n",
    "decoded_review = ' '.join([reverse_index.get(i) for i in sequences[comment_idx_to_preview]])\n",
    "print('Decoded review from Tokenizer:')\n",
    "print(decoded_review)"
   ]
  },
  {
   "cell_type": "markdown",
   "metadata": {},
   "source": [
    "## Convert the Products to Numerical Categories\n",
    "\n",
    "On to step two of our preprocessing: converting our descriptive categories into integers."
   ]
  },
  {
   "cell_type": "code",
   "execution_count": 18,
   "metadata": {},
   "outputs": [
    {
     "name": "stdout",
     "output_type": "stream",
     "text": [
      "Original class labels:\n",
      "['Bank account or service', 'Checking or savings account', 'Consumer Loan', 'Credit card', 'Credit reporting', 'Mortgage', 'Student loan']\n",
      "\n",
      "\n",
      "New product labels:\n",
      "[6 6 6 ... 4 4 4]\n",
      "\n",
      "\n",
      "One hot labels; 7 binary columns, one for each of the categories.\n",
      "[[0. 0. 0. ... 0. 0. 1.]\n",
      " [0. 0. 0. ... 0. 0. 1.]\n",
      " [0. 0. 0. ... 0. 0. 1.]\n",
      " ...\n",
      " [0. 0. 0. ... 1. 0. 0.]\n",
      " [0. 0. 0. ... 1. 0. 0.]\n",
      " [0. 0. 0. ... 1. 0. 0.]]\n",
      "\n",
      "\n",
      "One hot labels shape:\n",
      "(60000, 7)\n"
     ]
    }
   ],
   "source": [
    "product = df['Product']\n",
    "\n",
    "# Initialize\n",
    "le = preprocessing.LabelEncoder() \n",
    "le.fit(product)\n",
    "print('Original class labels:')\n",
    "print(list(le.classes_))\n",
    "print('\\n')\n",
    "product_cat = le.transform(product)  \n",
    "\n",
    "# If you wish to retrieve the original descriptive labels post production\n",
    "# list(le.inverse_transform([0, 1, 3, 3, 0, 6, 4])) \n",
    "\n",
    "print('New product labels:')\n",
    "print(product_cat)\n",
    "print('\\n')\n",
    "\n",
    "# Each row will be all zeros except for the category for that observation \n",
    "print('One hot labels; 7 binary columns, one for each of the categories.') \n",
    "product_onehot = to_categorical(product_cat)\n",
    "print(product_onehot)\n",
    "print('\\n')\n",
    "\n",
    "print('One hot labels shape:')\n",
    "print(np.shape(product_onehot))"
   ]
  },
  {
   "cell_type": "markdown",
   "metadata": {},
   "source": [
    "## Train-test split\n",
    "\n",
    "Now for our final preprocessing step: the usual train-test split. "
   ]
  },
  {
   "cell_type": "code",
   "execution_count": 19,
   "metadata": {},
   "outputs": [
    {
     "name": "stdout",
     "output_type": "stream",
     "text": [
      "Test label shape: (1500, 7)\n",
      "Train label shape: (58500, 7)\n",
      "Test shape: (1500, 2000)\n",
      "Train shape: (58500, 2000)\n"
     ]
    }
   ],
   "source": [
    "random.seed(123)\n",
    "test_index = random.sample(range(1,10000), 1500)\n",
    "\n",
    "test = one_hot_results[test_index]\n",
    "train = np.delete(one_hot_results, test_index, 0)\n",
    "\n",
    "label_test = product_onehot[test_index]\n",
    "label_train = np.delete(product_onehot, test_index, 0)\n",
    "\n",
    "print('Test label shape:', np.shape(label_test))\n",
    "print('Train label shape:', np.shape(label_train))\n",
    "print('Test shape:', np.shape(test))\n",
    "print('Train shape:', np.shape(train))"
   ]
  },
  {
   "cell_type": "markdown",
   "metadata": {},
   "source": [
    "## Building the network\n",
    "\n",
    "Let's build a fully connected (Dense) layer network with relu activation in Keras. You can do this using: `Dense(16, activation='relu')`. \n",
    "\n",
    "In this example, use two hidden layers with 50 units in the first layer and 25 in the second, both with a `'relu'` activation function. Because we are dealing with a multiclass problem (classifying the complaints into 7 categories), we use a use a `'softmax'` classifier in order to output 7 class probabilities per case.  "
   ]
  },
  {
   "cell_type": "code",
   "execution_count": 20,
   "metadata": {},
   "outputs": [],
   "source": [
    "# Initialize a sequential model\n",
    "model = models.Sequential()\n",
    "\n",
    "# Two layers with relu activation\n",
    "model.add(layers.Dense(50, activation='relu', input_shape=(2000,)))\n",
    "model.add(layers.Dense(25, activation='relu'))\n",
    "\n",
    "\n",
    "# One layer with softmax activation \n",
    "model.add(layers.Dense(7, activation='softmax'))"
   ]
  },
  {
   "cell_type": "markdown",
   "metadata": {},
   "source": [
    "## Compiling the model\n",
    "\n",
    "Now, compile the model! This time, use `'categorical_crossentropy'` as the loss function and stochastic gradient descent, `'SGD'` as the optimizer. As in the previous lesson, include the accuracy as a metric."
   ]
  },
  {
   "cell_type": "code",
   "execution_count": 21,
   "metadata": {},
   "outputs": [],
   "source": [
    "# Compile the model\n",
    "model.compile(optimizer='SGD', loss='categorical_crossentropy', metrics=['accuracy'])\n"
   ]
  },
  {
   "cell_type": "markdown",
   "metadata": {},
   "source": [
    "## Training the model\n",
    "\n",
    "In the compiler, you'll be passing the optimizer (SGD = stochastic gradient descent), loss function, and metrics. Train the model for 120 epochs in mini-batches of 256 samples.\n",
    "\n",
    "_Note:_ ⏰ _Your code may take about one to two minutes to run._"
   ]
  },
  {
   "cell_type": "code",
   "execution_count": 22,
   "metadata": {},
   "outputs": [
    {
     "name": "stdout",
     "output_type": "stream",
     "text": [
      "Epoch 1/120\n",
      "58500/58500 [==============================] - 2s 31us/step - loss: 1.8788 - acc: 0.2435\n",
      "Epoch 2/120\n",
      "58500/58500 [==============================] - 1s 17us/step - loss: 1.6302 - acc: 0.4558\n",
      "Epoch 3/120\n",
      "58500/58500 [==============================] - 1s 17us/step - loss: 1.2547 - acc: 0.6337\n",
      "Epoch 4/120\n",
      "58500/58500 [==============================] - 1s 17us/step - loss: 0.9715 - acc: 0.6916\n",
      "Epoch 5/120\n",
      "58500/58500 [==============================] - 1s 17us/step - loss: 0.8243 - acc: 0.7182\n",
      "Epoch 6/120\n",
      "58500/58500 [==============================] - 1s 17us/step - loss: 0.7453 - acc: 0.7350\n",
      "Epoch 7/120\n",
      "58500/58500 [==============================] - 1s 17us/step - loss: 0.6963 - acc: 0.7482\n",
      "Epoch 8/120\n",
      "58500/58500 [==============================] - 1s 17us/step - loss: 0.6626 - acc: 0.7581\n",
      "Epoch 9/120\n",
      "58500/58500 [==============================] - 1s 18us/step - loss: 0.6371 - acc: 0.7656\n",
      "Epoch 10/120\n",
      "58500/58500 [==============================] - 1s 17us/step - loss: 0.6168 - acc: 0.7727\n",
      "Epoch 11/120\n",
      "58500/58500 [==============================] - 1s 17us/step - loss: 0.6000 - acc: 0.7788\n",
      "Epoch 12/120\n",
      "58500/58500 [==============================] - 1s 17us/step - loss: 0.5859 - acc: 0.7839\n",
      "Epoch 13/120\n",
      "58500/58500 [==============================] - 1s 17us/step - loss: 0.5734 - acc: 0.7888\n",
      "Epoch 14/120\n",
      "58500/58500 [==============================] - 1s 17us/step - loss: 0.5623 - acc: 0.7934\n",
      "Epoch 15/120\n",
      "58500/58500 [==============================] - 1s 17us/step - loss: 0.5522 - acc: 0.7972\n",
      "Epoch 16/120\n",
      "58500/58500 [==============================] - 1s 17us/step - loss: 0.5432 - acc: 0.8014\n",
      "Epoch 17/120\n",
      "58500/58500 [==============================] - 1s 17us/step - loss: 0.5347 - acc: 0.8059\n",
      "Epoch 18/120\n",
      "58500/58500 [==============================] - 1s 17us/step - loss: 0.5271 - acc: 0.8082\n",
      "Epoch 19/120\n",
      "58500/58500 [==============================] - 1s 17us/step - loss: 0.5197 - acc: 0.8116\n",
      "Epoch 20/120\n",
      "58500/58500 [==============================] - 1s 18us/step - loss: 0.5130 - acc: 0.8148\n",
      "Epoch 21/120\n",
      "58500/58500 [==============================] - 1s 17us/step - loss: 0.5068 - acc: 0.8175\n",
      "Epoch 22/120\n",
      "58500/58500 [==============================] - 1s 17us/step - loss: 0.5010 - acc: 0.8193\n",
      "Epoch 23/120\n",
      "58500/58500 [==============================] - 1s 17us/step - loss: 0.4955 - acc: 0.8214\n",
      "Epoch 24/120\n",
      "58500/58500 [==============================] - 1s 18us/step - loss: 0.4902 - acc: 0.8242\n",
      "Epoch 25/120\n",
      "58500/58500 [==============================] - 1s 17us/step - loss: 0.4855 - acc: 0.8253\n",
      "Epoch 26/120\n",
      "58500/58500 [==============================] - 1s 17us/step - loss: 0.4807 - acc: 0.8275\n",
      "Epoch 27/120\n",
      "58500/58500 [==============================] - 1s 17us/step - loss: 0.4764 - acc: 0.8294\n",
      "Epoch 28/120\n",
      "58500/58500 [==============================] - 1s 17us/step - loss: 0.4720 - acc: 0.8317\n",
      "Epoch 29/120\n",
      "58500/58500 [==============================] - 1s 17us/step - loss: 0.4683 - acc: 0.8335\n",
      "Epoch 30/120\n",
      "58500/58500 [==============================] - 1s 17us/step - loss: 0.4645 - acc: 0.8338\n",
      "Epoch 31/120\n",
      "58500/58500 [==============================] - 1s 17us/step - loss: 0.4610 - acc: 0.8352\n",
      "Epoch 32/120\n",
      "58500/58500 [==============================] - 1s 17us/step - loss: 0.4574 - acc: 0.8374\n",
      "Epoch 33/120\n",
      "58500/58500 [==============================] - 1s 17us/step - loss: 0.4540 - acc: 0.8388\n",
      "Epoch 34/120\n",
      "58500/58500 [==============================] - 1s 17us/step - loss: 0.4509 - acc: 0.8395\n",
      "Epoch 35/120\n",
      "58500/58500 [==============================] - 1s 17us/step - loss: 0.4479 - acc: 0.8404\n",
      "Epoch 36/120\n",
      "58500/58500 [==============================] - 1s 17us/step - loss: 0.4450 - acc: 0.8421\n",
      "Epoch 37/120\n",
      "58500/58500 [==============================] - 1s 17us/step - loss: 0.4423 - acc: 0.8428\n",
      "Epoch 38/120\n",
      "58500/58500 [==============================] - 1s 17us/step - loss: 0.4393 - acc: 0.8442\n",
      "Epoch 39/120\n",
      "58500/58500 [==============================] - 1s 17us/step - loss: 0.4372 - acc: 0.8451\n",
      "Epoch 40/120\n",
      "58500/58500 [==============================] - 1s 17us/step - loss: 0.4343 - acc: 0.8464\n",
      "Epoch 41/120\n",
      "58500/58500 [==============================] - 1s 17us/step - loss: 0.4318 - acc: 0.8469\n",
      "Epoch 42/120\n",
      "58500/58500 [==============================] - 1s 17us/step - loss: 0.4297 - acc: 0.8479\n",
      "Epoch 43/120\n",
      "58500/58500 [==============================] - 1s 18us/step - loss: 0.4270 - acc: 0.8488\n",
      "Epoch 44/120\n",
      "58500/58500 [==============================] - 1s 17us/step - loss: 0.4253 - acc: 0.8487\n",
      "Epoch 45/120\n",
      "58500/58500 [==============================] - 1s 17us/step - loss: 0.4227 - acc: 0.8495\n",
      "Epoch 46/120\n",
      "58500/58500 [==============================] - 1s 17us/step - loss: 0.4206 - acc: 0.8505\n",
      "Epoch 47/120\n",
      "58500/58500 [==============================] - 1s 17us/step - loss: 0.4188 - acc: 0.8510\n",
      "Epoch 48/120\n",
      "58500/58500 [==============================] - 1s 17us/step - loss: 0.4166 - acc: 0.8516\n",
      "Epoch 49/120\n",
      "58500/58500 [==============================] - 1s 17us/step - loss: 0.4147 - acc: 0.8528\n",
      "Epoch 50/120\n",
      "58500/58500 [==============================] - 1s 17us/step - loss: 0.4131 - acc: 0.8528\n",
      "Epoch 51/120\n",
      "58500/58500 [==============================] - 1s 18us/step - loss: 0.4112 - acc: 0.8537\n",
      "Epoch 52/120\n",
      "58500/58500 [==============================] - 1s 17us/step - loss: 0.4093 - acc: 0.8542\n",
      "Epoch 53/120\n",
      "58500/58500 [==============================] - 1s 17us/step - loss: 0.4072 - acc: 0.8541\n",
      "Epoch 54/120\n",
      "58500/58500 [==============================] - 1s 17us/step - loss: 0.4057 - acc: 0.8555\n",
      "Epoch 55/120\n",
      "58500/58500 [==============================] - 1s 17us/step - loss: 0.4039 - acc: 0.8571\n",
      "Epoch 56/120\n",
      "58500/58500 [==============================] - 1s 17us/step - loss: 0.4023 - acc: 0.8570\n",
      "Epoch 57/120\n",
      "58500/58500 [==============================] - 1s 17us/step - loss: 0.4006 - acc: 0.8573\n",
      "Epoch 58/120\n",
      "58500/58500 [==============================] - 1s 17us/step - loss: 0.3990 - acc: 0.8576\n",
      "Epoch 59/120\n",
      "58500/58500 [==============================] - 1s 17us/step - loss: 0.3977 - acc: 0.8583\n",
      "Epoch 60/120\n",
      "58500/58500 [==============================] - 1s 17us/step - loss: 0.3962 - acc: 0.8588\n",
      "Epoch 61/120\n",
      "58500/58500 [==============================] - 1s 17us/step - loss: 0.3945 - acc: 0.8593\n",
      "Epoch 62/120\n",
      "58500/58500 [==============================] - 1s 17us/step - loss: 0.3934 - acc: 0.8596\n",
      "Epoch 63/120\n",
      "58500/58500 [==============================] - 1s 17us/step - loss: 0.3917 - acc: 0.8606\n",
      "Epoch 64/120\n",
      "58500/58500 [==============================] - 1s 17us/step - loss: 0.3903 - acc: 0.8611\n",
      "Epoch 65/120\n",
      "58500/58500 [==============================] - 1s 17us/step - loss: 0.3889 - acc: 0.8611\n",
      "Epoch 66/120\n",
      "58500/58500 [==============================] - 1s 17us/step - loss: 0.3877 - acc: 0.8622\n",
      "Epoch 67/120\n",
      "58500/58500 [==============================] - 1s 17us/step - loss: 0.3861 - acc: 0.8626\n",
      "Epoch 68/120\n",
      "58500/58500 [==============================] - 1s 17us/step - loss: 0.3849 - acc: 0.8619\n",
      "Epoch 69/120\n",
      "58500/58500 [==============================] - 1s 17us/step - loss: 0.3835 - acc: 0.8625\n",
      "Epoch 70/120\n",
      "58500/58500 [==============================] - 1s 17us/step - loss: 0.3825 - acc: 0.8638\n",
      "Epoch 71/120\n",
      "58500/58500 [==============================] - 1s 17us/step - loss: 0.3805 - acc: 0.8650\n",
      "Epoch 72/120\n",
      "58500/58500 [==============================] - 1s 17us/step - loss: 0.3799 - acc: 0.8648\n",
      "Epoch 73/120\n",
      "58500/58500 [==============================] - 1s 17us/step - loss: 0.3784 - acc: 0.8654\n",
      "Epoch 74/120\n",
      "58500/58500 [==============================] - 1s 17us/step - loss: 0.3770 - acc: 0.8656\n",
      "Epoch 75/120\n",
      "58500/58500 [==============================] - 1s 17us/step - loss: 0.3761 - acc: 0.8664\n",
      "Epoch 76/120\n",
      "58500/58500 [==============================] - 1s 17us/step - loss: 0.3747 - acc: 0.8665\n",
      "Epoch 77/120\n",
      "58500/58500 [==============================] - 1s 17us/step - loss: 0.3736 - acc: 0.8670\n",
      "Epoch 78/120\n",
      "58500/58500 [==============================] - 1s 17us/step - loss: 0.3728 - acc: 0.8668\n",
      "Epoch 79/120\n",
      "58500/58500 [==============================] - 1s 17us/step - loss: 0.3715 - acc: 0.8673\n",
      "Epoch 80/120\n",
      "58500/58500 [==============================] - 1s 17us/step - loss: 0.3705 - acc: 0.8680\n",
      "Epoch 81/120\n"
     ]
    },
    {
     "name": "stdout",
     "output_type": "stream",
     "text": [
      "58500/58500 [==============================] - 1s 17us/step - loss: 0.3691 - acc: 0.8679\n",
      "Epoch 82/120\n",
      "58500/58500 [==============================] - 1s 16us/step - loss: 0.3682 - acc: 0.8696\n",
      "Epoch 83/120\n",
      "58500/58500 [==============================] - 1s 16us/step - loss: 0.3672 - acc: 0.8694\n",
      "Epoch 84/120\n",
      "58500/58500 [==============================] - 1s 16us/step - loss: 0.3658 - acc: 0.8690\n",
      "Epoch 85/120\n",
      "58500/58500 [==============================] - 1s 16us/step - loss: 0.3649 - acc: 0.8709\n",
      "Epoch 86/120\n",
      "58500/58500 [==============================] - 1s 16us/step - loss: 0.3636 - acc: 0.8707\n",
      "Epoch 87/120\n",
      "58500/58500 [==============================] - 1s 16us/step - loss: 0.3628 - acc: 0.8710\n",
      "Epoch 88/120\n",
      "58500/58500 [==============================] - 1s 16us/step - loss: 0.3620 - acc: 0.8709\n",
      "Epoch 89/120\n",
      "58500/58500 [==============================] - 1s 16us/step - loss: 0.3612 - acc: 0.8720\n",
      "Epoch 90/120\n",
      "58500/58500 [==============================] - 1s 17us/step - loss: 0.3598 - acc: 0.8720\n",
      "Epoch 91/120\n",
      "58500/58500 [==============================] - 1s 17us/step - loss: 0.3587 - acc: 0.8717\n",
      "Epoch 92/120\n",
      "58500/58500 [==============================] - 1s 17us/step - loss: 0.3580 - acc: 0.8729\n",
      "Epoch 93/120\n",
      "58500/58500 [==============================] - 1s 16us/step - loss: 0.3568 - acc: 0.8731\n",
      "Epoch 94/120\n",
      "58500/58500 [==============================] - 1s 16us/step - loss: 0.3558 - acc: 0.8728\n",
      "Epoch 95/120\n",
      "58500/58500 [==============================] - 1s 16us/step - loss: 0.3549 - acc: 0.8739\n",
      "Epoch 96/120\n",
      "58500/58500 [==============================] - 1s 17us/step - loss: 0.3538 - acc: 0.8749\n",
      "Epoch 97/120\n",
      "58500/58500 [==============================] - 1s 17us/step - loss: 0.3528 - acc: 0.8753\n",
      "Epoch 98/120\n",
      "58500/58500 [==============================] - 1s 16us/step - loss: 0.3517 - acc: 0.8748\n",
      "Epoch 99/120\n",
      "58500/58500 [==============================] - 1s 16us/step - loss: 0.3510 - acc: 0.8745\n",
      "Epoch 100/120\n",
      "58500/58500 [==============================] - 1s 16us/step - loss: 0.3499 - acc: 0.8762\n",
      "Epoch 101/120\n",
      "58500/58500 [==============================] - 1s 16us/step - loss: 0.3492 - acc: 0.8750\n",
      "Epoch 102/120\n",
      "58500/58500 [==============================] - 1s 16us/step - loss: 0.3482 - acc: 0.8764\n",
      "Epoch 103/120\n",
      "58500/58500 [==============================] - 1s 16us/step - loss: 0.3473 - acc: 0.8766\n",
      "Epoch 104/120\n",
      "58500/58500 [==============================] - 1s 17us/step - loss: 0.3465 - acc: 0.8766\n",
      "Epoch 105/120\n",
      "58500/58500 [==============================] - 1s 17us/step - loss: 0.3453 - acc: 0.8779\n",
      "Epoch 106/120\n",
      "58500/58500 [==============================] - 1s 16us/step - loss: 0.3441 - acc: 0.8785\n",
      "Epoch 107/120\n",
      "58500/58500 [==============================] - 1s 16us/step - loss: 0.3434 - acc: 0.8777\n",
      "Epoch 108/120\n",
      "58500/58500 [==============================] - 1s 16us/step - loss: 0.3427 - acc: 0.8785\n",
      "Epoch 109/120\n",
      "58500/58500 [==============================] - 1s 16us/step - loss: 0.3412 - acc: 0.8784\n",
      "Epoch 110/120\n",
      "58500/58500 [==============================] - 1s 16us/step - loss: 0.3409 - acc: 0.8791\n",
      "Epoch 111/120\n",
      "58500/58500 [==============================] - 1s 16us/step - loss: 0.3398 - acc: 0.8785\n",
      "Epoch 112/120\n",
      "58500/58500 [==============================] - 1s 16us/step - loss: 0.3386 - acc: 0.8797\n",
      "Epoch 113/120\n",
      "58500/58500 [==============================] - 1s 17us/step - loss: 0.3380 - acc: 0.8798\n",
      "Epoch 114/120\n",
      "58500/58500 [==============================] - 1s 16us/step - loss: 0.3368 - acc: 0.8802\n",
      "Epoch 115/120\n",
      "58500/58500 [==============================] - 1s 16us/step - loss: 0.3360 - acc: 0.8801\n",
      "Epoch 116/120\n",
      "58500/58500 [==============================] - 1s 17us/step - loss: 0.3349 - acc: 0.8817\n",
      "Epoch 117/120\n",
      "58500/58500 [==============================] - 1s 16us/step - loss: 0.3340 - acc: 0.8813\n",
      "Epoch 118/120\n",
      "58500/58500 [==============================] - 1s 16us/step - loss: 0.3334 - acc: 0.8809\n",
      "Epoch 119/120\n",
      "58500/58500 [==============================] - 1s 16us/step - loss: 0.3326 - acc: 0.8821\n",
      "Epoch 120/120\n",
      "58500/58500 [==============================] - 1s 16us/step - loss: 0.3317 - acc: 0.8817\n"
     ]
    }
   ],
   "source": [
    "# Train the model \n",
    "history = model.fit(train, label_train, epochs= 120, batch_size= 256)"
   ]
  },
  {
   "cell_type": "markdown",
   "metadata": {},
   "source": [
    "Recall that the dictionary `history` has two entries: the loss and the accuracy achieved using the training set."
   ]
  },
  {
   "cell_type": "code",
   "execution_count": 23,
   "metadata": {},
   "outputs": [
    {
     "data": {
      "text/plain": [
       "dict_keys(['loss', 'acc'])"
      ]
     },
     "execution_count": 23,
     "metadata": {},
     "output_type": "execute_result"
    }
   ],
   "source": [
    "history_dict = history.history\n",
    "history_dict.keys()"
   ]
  },
  {
   "cell_type": "markdown",
   "metadata": {},
   "source": [
    "## Plot the results\n",
    "\n",
    "As you might expect, we'll use our `matplotlib` for graphing. Use the data stored in the `history_dict` above to plot the loss vs epochs and the accuracy vs epochs. "
   ]
  },
  {
   "cell_type": "code",
   "execution_count": 24,
   "metadata": {},
   "outputs": [
    {
     "data": {
      "text/plain": [
       "{'loss': [1.8787796252976117,\n",
       "  1.63016500998766,\n",
       "  1.2546925546939556,\n",
       "  0.9715410838127136,\n",
       "  0.824329104692508,\n",
       "  0.7452901413787124,\n",
       "  0.6963018096532577,\n",
       "  0.6625672183525868,\n",
       "  0.637090012350653,\n",
       "  0.6167583044064351,\n",
       "  0.6000210184113592,\n",
       "  0.585902127502311,\n",
       "  0.5733819811588678,\n",
       "  0.5623061494297451,\n",
       "  0.5522096365170601,\n",
       "  0.5431617846040644,\n",
       "  0.5346562326851054,\n",
       "  0.5271000712875628,\n",
       "  0.5196680339992555,\n",
       "  0.513035635218661,\n",
       "  0.5067692098087735,\n",
       "  0.5010047751206618,\n",
       "  0.49552366260381847,\n",
       "  0.4901520506622445,\n",
       "  0.4854892398088406,\n",
       "  0.48066337769459455,\n",
       "  0.47637204524594495,\n",
       "  0.47203761467159305,\n",
       "  0.46832381443284515,\n",
       "  0.46449551735983957,\n",
       "  0.46101628125630895,\n",
       "  0.457442690694434,\n",
       "  0.45402884314202857,\n",
       "  0.4509344215067024,\n",
       "  0.4478512368161454,\n",
       "  0.4450341896888537,\n",
       "  0.4423059885135064,\n",
       "  0.43931197252844134,\n",
       "  0.43715201640944196,\n",
       "  0.4343069418597425,\n",
       "  0.4318105289508135,\n",
       "  0.42967931587268143,\n",
       "  0.42700736413450324,\n",
       "  0.4252932377595168,\n",
       "  0.4227491258066944,\n",
       "  0.4205926592309251,\n",
       "  0.41879519844055174,\n",
       "  0.4166252558516641,\n",
       "  0.4146965258325267,\n",
       "  0.4131059262569134,\n",
       "  0.41115288725673643,\n",
       "  0.40934673944701494,\n",
       "  0.4072454110170022,\n",
       "  0.40569878461829617,\n",
       "  0.40390294324842274,\n",
       "  0.40231653260980915,\n",
       "  0.4006308261207026,\n",
       "  0.39901013677140584,\n",
       "  0.3977298439241882,\n",
       "  0.3962445754047133,\n",
       "  0.3944886111010853,\n",
       "  0.3933504320332128,\n",
       "  0.391652410751734,\n",
       "  0.3902887743395618,\n",
       "  0.38893000339850403,\n",
       "  0.38770234719708435,\n",
       "  0.38609998928583583,\n",
       "  0.3849147238344209,\n",
       "  0.3835215943470979,\n",
       "  0.38251114802279024,\n",
       "  0.38050545928417107,\n",
       "  0.37989716188724226,\n",
       "  0.3784055672568134,\n",
       "  0.37703799101430124,\n",
       "  0.37610932015965126,\n",
       "  0.37466679214616105,\n",
       "  0.37359276251100065,\n",
       "  0.3728317485100184,\n",
       "  0.3715410483026097,\n",
       "  0.3704719106865744,\n",
       "  0.36912574248639946,\n",
       "  0.36820820201971594,\n",
       "  0.367211655948916,\n",
       "  0.3657910725194165,\n",
       "  0.36488533929270556,\n",
       "  0.3635957623119028,\n",
       "  0.36279013945098615,\n",
       "  0.3619742788188478,\n",
       "  0.36123502269769325,\n",
       "  0.3598291972702385,\n",
       "  0.35872145205481437,\n",
       "  0.3579729903579777,\n",
       "  0.3568257704005282,\n",
       "  0.3558293920072735,\n",
       "  0.3548961527266054,\n",
       "  0.35381554243299695,\n",
       "  0.3527884844042297,\n",
       "  0.3516980869056832,\n",
       "  0.3510169473896679,\n",
       "  0.3499292322122134,\n",
       "  0.349182346971626,\n",
       "  0.3481608655717638,\n",
       "  0.3473342734361306,\n",
       "  0.34649865698203064,\n",
       "  0.34525268421417626,\n",
       "  0.34414225051138136,\n",
       "  0.34339291580721865,\n",
       "  0.3427294633959094,\n",
       "  0.3411847688377413,\n",
       "  0.3408542987994659,\n",
       "  0.3397654952350845,\n",
       "  0.33858972235826346,\n",
       "  0.3379669169462644,\n",
       "  0.3367744914670276,\n",
       "  0.33600292363126055,\n",
       "  0.33491619928881655,\n",
       "  0.33397095846518493,\n",
       "  0.3334112090697655,\n",
       "  0.332614570163254,\n",
       "  0.3317169278870281],\n",
       " 'acc': [0.24352136749691433,\n",
       "  0.455829059784229,\n",
       "  0.6337094016849485,\n",
       "  0.6915555556207641,\n",
       "  0.7182051282336569,\n",
       "  0.7349743589091505,\n",
       "  0.7481538461579217,\n",
       "  0.7580683760357718,\n",
       "  0.7656068375905355,\n",
       "  0.7726837606919117,\n",
       "  0.778820512853117,\n",
       "  0.783931623878642,\n",
       "  0.788820512775682,\n",
       "  0.7933675213389927,\n",
       "  0.7972307692511469,\n",
       "  0.8014017094383892,\n",
       "  0.8058974359218891,\n",
       "  0.8082051282581101,\n",
       "  0.8115726495115166,\n",
       "  0.814752136784741,\n",
       "  0.817521367525443,\n",
       "  0.8192649573057126,\n",
       "  0.8213846153723888,\n",
       "  0.8241880341391278,\n",
       "  0.8253333332722004,\n",
       "  0.8275384615914434,\n",
       "  0.8294358974766527,\n",
       "  0.8316923076963832,\n",
       "  0.8334529914448404,\n",
       "  0.8338119658160413,\n",
       "  0.8352136751851464,\n",
       "  0.8373675214042011,\n",
       "  0.8388034188115698,\n",
       "  0.8394529914733692,\n",
       "  0.8404444443996136,\n",
       "  0.8420854700243371,\n",
       "  0.8428376068090782,\n",
       "  0.8441880341269012,\n",
       "  0.8450769230361678,\n",
       "  0.8463589744160318,\n",
       "  0.8468888888929644,\n",
       "  0.8479487180057754,\n",
       "  0.8487521367113814,\n",
       "  0.8487008546437973,\n",
       "  0.8495384615955189,\n",
       "  0.8505299145543678,\n",
       "  0.850957264896132,\n",
       "  0.8516068376435174,\n",
       "  0.8527863248433822,\n",
       "  0.8527521367113814,\n",
       "  0.8536581195969867,\n",
       "  0.8541709401424115,\n",
       "  0.8540854700569414,\n",
       "  0.8555042735124245,\n",
       "  0.8571452991819789,\n",
       "  0.857008546947414,\n",
       "  0.8573162393040127,\n",
       "  0.8575555555148002,\n",
       "  0.8583076923158434,\n",
       "  0.8588376068824377,\n",
       "  0.8592991452380123,\n",
       "  0.8596239316320827,\n",
       "  0.8606153845583272,\n",
       "  0.8611452991697524,\n",
       "  0.8610598290190737,\n",
       "  0.8621538461619972,\n",
       "  0.8626324786732339,\n",
       "  0.861931623939775,\n",
       "  0.862495726438669,\n",
       "  0.8637606837525327,\n",
       "  0.8650256409645081,\n",
       "  0.8647863248433822,\n",
       "  0.8653675214245788,\n",
       "  0.865606837594611,\n",
       "  0.8663931624339177,\n",
       "  0.8665470085388575,\n",
       "  0.86699145293032,\n",
       "  0.8668205128408905,\n",
       "  0.8672820512209183,\n",
       "  0.8680000000407553,\n",
       "  0.8678632479040032,\n",
       "  0.869606837663895,\n",
       "  0.8694188034432566,\n",
       "  0.8689572649980203,\n",
       "  0.870923076931228,\n",
       "  0.8707179487097977,\n",
       "  0.8710256410663963,\n",
       "  0.8709230769801344,\n",
       "  0.8719658119576609,\n",
       "  0.8719658120228694,\n",
       "  0.8716923076311748,\n",
       "  0.8729230768823216,\n",
       "  0.873059829051678,\n",
       "  0.8727863247781737,\n",
       "  0.8739316239723792,\n",
       "  0.8748717948758704,\n",
       "  0.8753162393040127,\n",
       "  0.8748205128123617,\n",
       "  0.8744615384696895,\n",
       "  0.8761709401301848,\n",
       "  0.8749743589336036,\n",
       "  0.8763760684372014,\n",
       "  0.8765641025722536,\n",
       "  0.8766324786569318,\n",
       "  0.877880341888493,\n",
       "  0.8785128205739535,\n",
       "  0.877675213715969,\n",
       "  0.8785470085225554,\n",
       "  0.8784102564510117,\n",
       "  0.8790769230850741,\n",
       "  0.8784786324215751,\n",
       "  0.8797435898047227,\n",
       "  0.8798290598209088,\n",
       "  0.8801709402116955,\n",
       "  0.8800854701466031,\n",
       "  0.8816923076678546,\n",
       "  0.8813162393692212,\n",
       "  0.8809230768945482,\n",
       "  0.8820683760072431,\n",
       "  0.8816923076678546]}"
      ]
     },
     "execution_count": 24,
     "metadata": {},
     "output_type": "execute_result"
    }
   ],
   "source": [
    "history_dict"
   ]
  },
  {
   "cell_type": "code",
   "execution_count": 29,
   "metadata": {},
   "outputs": [
    {
     "data": {
      "image/png": "[encoded data removed]",
      "text/plain": [
       "<Figure size 432x288 with 1 Axes>"
      ]
     },
     "metadata": {
      "needs_background": "light"
     },
     "output_type": "display_data"
    }
   ],
   "source": [
    "# Plot the loss vs the number of epochs\n",
    "\n",
    "epochs = range(120)\n",
    "loss = history_dict['loss']\n",
    "\n",
    "plt.plot(epochs, loss)\n",
    "plt.title('Loss vs Epochs')\n",
    "plt.show()"
   ]
  },
  {
   "cell_type": "code",
   "execution_count": 31,
   "metadata": {},
   "outputs": [
    {
     "data": {
      "image/png": "[encoded data removed]",
      "text/plain": [
       "<Figure size 432x288 with 1 Axes>"
      ]
     },
     "metadata": {
      "needs_background": "light"
     },
     "output_type": "display_data"
    }
   ],
   "source": [
    "# Plot the training accuracy vs the number of epochs\n",
    "accuracy = history_dict['acc']\n",
    "plt.plot(epochs, accuracy)\n",
    "plt.title('Accuracy vs Epochs')\n",
    "plt.show()"
   ]
  },
  {
   "cell_type": "markdown",
   "metadata": {},
   "source": [
    "It seems like we could just keep on going and accuracy would go up!"
   ]
  },
  {
   "cell_type": "markdown",
   "metadata": {},
   "source": [
    "## Make predictions\n",
    "\n",
    "Finally, it's time to make predictions. Use the relevant method discussed in the previous lesson to output (probability) predictions for the test set."
   ]
  },
  {
   "cell_type": "code",
   "execution_count": 32,
   "metadata": {},
   "outputs": [],
   "source": [
    "# Output (probability) predictions for the test set \n",
    "y_hat_test = model.predict(test)"
   ]
  },
  {
   "cell_type": "markdown",
   "metadata": {},
   "source": [
    "## Evaluate Performance\n",
    "\n",
    "Finally, print the loss and accuracy for both the train and test sets of the final trained model."
   ]
  },
  {
   "cell_type": "code",
   "execution_count": 34,
   "metadata": {},
   "outputs": [
    {
     "name": "stdout",
     "output_type": "stream",
     "text": [
      "58500/58500 [==============================] - 2s 38us/step\n"
     ]
    },
    {
     "data": {
      "text/plain": [
       "[0.3264661674752959, 0.8851965811965812]"
      ]
     },
     "execution_count": 34,
     "metadata": {},
     "output_type": "execute_result"
    }
   ],
   "source": [
    "# Print the loss and accuracy for the training set \n",
    "results_train = model.evaluate(train, label_train)\n",
    "results_train"
   ]
  },
  {
   "cell_type": "code",
   "execution_count": 35,
   "metadata": {},
   "outputs": [
    {
     "name": "stdout",
     "output_type": "stream",
     "text": [
      "1500/1500 [==============================] - 0s 73us/step\n"
     ]
    },
    {
     "data": {
      "text/plain": [
       "[0.2121540036946535, 0.9446666661898295]"
      ]
     },
     "execution_count": 35,
     "metadata": {},
     "output_type": "execute_result"
    }
   ],
   "source": [
    "# Print the loss and accuracy for the test set \n",
    "results_test = model.evaluate(test, label_test)\n",
    "results_test"
   ]
  },
  {
   "cell_type": "markdown",
   "metadata": {},
   "source": [
    "We can see that the training set results are really good, but the test set results lag behind. We'll talk a little more about this in the next lesson, and discuss how we can get better test set results as well!\n",
    "\n",
    "\n",
    "## Additional Resources \n",
    "\n",
    "- https://github.com/susanli2016/Machine-Learning-with-Python/blob/master/Consumer_complaints.ipynb \n",
    "- https://catalog.data.gov/dataset/consumer-complaint-database \n",
    "\n",
    "## Summary \n",
    "\n",
    "Congratulations! In this lab, you built a neural network thanks to the tools provided by Keras! In upcoming lessons and labs we'll continue to investigate further ideas regarding how to tune and refine these models for increased accuracy and performance."
   ]
  }
 ],
 "metadata": {
  "kernelspec": {
   "display_name": "Python 3",
   "language": "python",
   "name": "python3"
  },
  "language_info": {
   "codemirror_mode": {
    "name": "ipython",
    "version": 3
   },
   "file_extension": ".py",
   "mimetype": "text/x-python",
   "name": "python",
   "nbconvert_exporter": "python",
   "pygments_lexer": "ipython3",
   "version": "3.6.9"
  },
  "toc": {
   "base_numbering": 1,
   "nav_menu": {},
   "number_sections": true,
   "sideBar": true,
   "skip_h1_title": false,
   "title_cell": "Table of Contents",
   "title_sidebar": "Contents",
   "toc_cell": false,
   "toc_position": {},
   "toc_section_display": true,
   "toc_window_display": false
  }
 },
 "nbformat": 4,
 "nbformat_minor": 2
}
